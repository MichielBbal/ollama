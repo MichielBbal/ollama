{
 "cells": [
  {
   "cell_type": "markdown",
   "metadata": {},
   "source": [
    "# Ollama RAG exercises\n",
    "\n",
    "Just some code to learn more about RAG. Don't expect too much of it, it's just fun! \n",
    "\n",
    "### Contents\n",
    "1. Learn the theory of cosines similarity\n",
    "2. Create embeddings with ollama.\n",
    "3. Calculate cosine similarity between two sentences\n",
    "4. Convert a pdf to text"
   ]
  },
  {
   "cell_type": "markdown",
   "metadata": {
    "metadata": {}
   },
   "source": [
    "## 1. Learn theory of cosine similarity"
   ]
  },
  {
   "cell_type": "code",
   "execution_count": null,
   "metadata": {},
   "outputs": [],
   "source": [
    "#Define two points\n",
    "\n",
    "# Choose values [1-10] (integers/floats) to properly plot it below\n",
    "# point 1\n",
    "p1x = 4\n",
    "p1y = 3\n",
    "\n",
    "#point 2\n",
    "p2x = 3\n",
    "p2y = 4"
   ]
  },
  {
   "cell_type": "code",
   "execution_count": null,
   "metadata": {},
   "outputs": [],
   "source": [
    "#function to calculate cosine similarity\n",
    "def cosine_similarity(a, b):\n",
    "    dot_product = sum(x * y for x, y in zip(a, b))\n",
    "    magnitude_a = sum(x * x for x in a) ** 0.5\n",
    "    magnitude_b = sum(x * x for x in b) ** 0.5\n",
    "    return dot_product / (magnitude_a * magnitude_b)\n",
    "\n",
    "cosine_similarity((p1x,p1y), (p2x,p2y))"
   ]
  },
  {
   "cell_type": "code",
   "execution_count": null,
   "metadata": {},
   "outputs": [],
   "source": [
    "#plot the points and create a vector from 0,0\n",
    "%matplotlib inline\n",
    "import matplotlib.pyplot as plt \n",
    "\n",
    "#get points and plot them\n",
    "points_x = p1x, p2x\n",
    "points_y = p1y, p2y\n",
    "plt.plot(points_x, points_y, 'o') \n",
    "\n",
    "#plot vectors \n",
    "plt.quiver([0, 0], [0, 0], [p1x, p2x], [p1y,p2y], angles='xy', scale_units='xy', scale=1)\n",
    "\n",
    "#plot axes and show it\n",
    "plt.xlim(0, 10)\n",
    "plt.ylim(0, 10)\n",
    "plt.show()"
   ]
  },
  {
   "cell_type": "markdown",
   "metadata": {},
   "source": [
    "### Exercise 1: \n",
    "1. play with the points and see what happens\n",
    "2. create two examples:\n",
    "    - Where cosine similarity is 1\n",
    "    - Where cosine similarity is 0"
   ]
  },
  {
   "cell_type": "markdown",
   "metadata": {},
   "source": [
    "## 2. Create embeddings with ollama. Compare two models in speed."
   ]
  },
  {
   "cell_type": "code",
   "execution_count": null,
   "metadata": {
    "metadata": {}
   },
   "outputs": [],
   "source": [
    "#check if you have to nomic-embed-text\n",
    "!ollama list"
   ]
  },
  {
   "cell_type": "code",
   "execution_count": null,
   "metadata": {
    "metadata": {}
   },
   "outputs": [],
   "source": [
    "%%time\n",
    "import ollama\n",
    "ollama.embeddings(model='mistral', prompt='The dog ran fast')"
   ]
  },
  {
   "cell_type": "code",
   "execution_count": null,
   "metadata": {},
   "outputs": [],
   "source": [
    "%%time\n",
    "import ollama\n",
    "ollama.embeddings(model='nomic-embed-text', prompt='The dog ran fast')"
   ]
  },
  {
   "cell_type": "markdown",
   "metadata": {},
   "source": [
    "## 3. Calculate cosine similarity between to sentences"
   ]
  },
  {
   "cell_type": "code",
   "execution_count": null,
   "metadata": {},
   "outputs": [],
   "source": [
    "!pip install torch"
   ]
  },
  {
   "cell_type": "code",
   "execution_count": null,
   "metadata": {},
   "outputs": [],
   "source": [
    "import ollama\n",
    "import torch\n",
    "embeddings_dict = ollama.embeddings(model='nomic-embed-text', prompt='The dog ran fast')\n",
    "#embeddings_0 = embeddings_dict['embedding']\n",
    "embeddings_0 = torch.tensor(embeddings_dict['embedding'])\n",
    "print(len(embeddings_0))\n",
    "print(embeddings_0)"
   ]
  },
  {
   "cell_type": "code",
   "execution_count": null,
   "metadata": {},
   "outputs": [],
   "source": [
    "%%time\n",
    "import ollama\n",
    "embeddings_dict = ollama.embeddings(model='nomic-embed-text', prompt='The cat ran fast')\n",
    "embeddings_1 = torch.tensor(embeddings_dict['embedding'])\n",
    "print(len(embeddings_1))\n",
    "print(embeddings_1)"
   ]
  },
  {
   "cell_type": "code",
   "execution_count": null,
   "metadata": {},
   "outputs": [],
   "source": [
    "import torch\n",
    "#calculate the cosine similarity\n",
    "cos = torch.nn.CosineSimilarity(dim=0)\n",
    "\n",
    "similarity = cos(embeddings_0,embeddings_1).item()\n",
    "similarity = (similarity+1)/2\n",
    "\n",
    "print(\"Cosines similarity two sentences: \", similarity)"
   ]
  },
  {
   "cell_type": "markdown",
   "metadata": {},
   "source": [
    "## 4. Convert a .pdf to .txt"
   ]
  },
  {
   "cell_type": "code",
   "execution_count": null,
   "metadata": {},
   "outputs": [],
   "source": [
    "!pip install PyPDF2"
   ]
  },
  {
   "cell_type": "code",
   "execution_count": null,
   "metadata": {},
   "outputs": [],
   "source": [
    "from PyPDF2 import PdfReader"
   ]
  },
  {
   "cell_type": "code",
   "execution_count": null,
   "metadata": {},
   "outputs": [],
   "source": [
    "import wget\n",
    "document = wget.download('https://assets.scriptslug.com/live/pdf/scripts/pulp-fiction-1994.pdf')\n",
    "document"
   ]
  },
  {
   "cell_type": "code",
   "execution_count": null,
   "metadata": {},
   "outputs": [],
   "source": [
    "# Select the .pdf file to read \n",
    "reader = PdfReader('./pulp-fiction-1994.pdf')\n",
    "reader"
   ]
  },
  {
   "cell_type": "code",
   "execution_count": null,
   "metadata": {},
   "outputs": [],
   "source": [
    "# read data from the file and put them into a variable called raw_text\n",
    "raw_text = ''\n",
    "for i, page in enumerate(reader.pages):\n",
    "    text = page.extract_text()\n",
    "    if text:\n",
    "        raw_text += text\n",
    "print(raw_text[:200])\n",
    "print(50 * '-')\n",
    "print(f'The text is {len(raw_text)} characters')"
   ]
  },
  {
   "cell_type": "code",
   "execution_count": null,
   "metadata": {},
   "outputs": [],
   "source": []
  },
  {
   "cell_type": "code",
   "execution_count": null,
   "metadata": {},
   "outputs": [],
   "source": []
  }
 ],
 "metadata": {
  "kernelspec": {
   "display_name": "Python 3 (ipykernel)",
   "language": "python",
   "name": "python3"
  },
  "language_info": {
   "codemirror_mode": {
    "name": "ipython",
    "version": 3
   },
   "file_extension": ".py",
   "mimetype": "text/x-python",
   "name": "python",
   "nbconvert_exporter": "python",
   "pygments_lexer": "ipython3",
   "version": "3.10.9"
  }
 },
 "nbformat": 4,
 "nbformat_minor": 2
}
