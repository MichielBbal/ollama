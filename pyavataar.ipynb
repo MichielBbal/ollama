{
 "cells": [
  {
   "cell_type": "markdown",
   "metadata": {},
   "source": [
    "#"
   ]
  },
  {
   "cell_type": "markdown",
   "metadata": {},
   "source": [
    "# Pyavataars"
   ]
  },
  {
   "cell_type": "code",
   "execution_count": 1,
   "metadata": {},
   "outputs": [
    {
     "name": "stdout",
     "output_type": "stream",
     "text": [
      "Collecting py-avataaars\n",
      "  Using cached py_avataaars-1.1.2-py3-none-any.whl.metadata (2.9 kB)\n",
      "Collecting cairosvg>=2.3.0 (from py-avataaars)\n",
      "  Using cached CairoSVG-2.7.1-py3-none-any.whl.metadata (2.7 kB)\n",
      "Requirement already satisfied: jinja2>=2.9.3 in /Users/michielbontenbal/anaconda3/lib/python3.10/site-packages (from py-avataaars) (3.1.2)\n",
      "Collecting cairocffi (from cairosvg>=2.3.0->py-avataaars)\n",
      "  Using cached cairocffi-1.7.0-py3-none-any.whl.metadata (3.3 kB)\n",
      "Collecting cssselect2 (from cairosvg>=2.3.0->py-avataaars)\n",
      "  Using cached cssselect2-0.7.0-py3-none-any.whl.metadata (2.9 kB)\n",
      "Requirement already satisfied: defusedxml in /Users/michielbontenbal/anaconda3/lib/python3.10/site-packages (from cairosvg>=2.3.0->py-avataaars) (0.7.1)\n",
      "Requirement already satisfied: pillow in /Users/michielbontenbal/anaconda3/lib/python3.10/site-packages (from cairosvg>=2.3.0->py-avataaars) (9.5.0)\n",
      "Requirement already satisfied: tinycss2 in /Users/michielbontenbal/anaconda3/lib/python3.10/site-packages (from cairosvg>=2.3.0->py-avataaars) (1.2.1)\n",
      "Requirement already satisfied: MarkupSafe>=2.0 in /Users/michielbontenbal/anaconda3/lib/python3.10/site-packages (from jinja2>=2.9.3->py-avataaars) (2.1.1)\n",
      "Requirement already satisfied: cffi>=1.1.0 in /Users/michielbontenbal/anaconda3/lib/python3.10/site-packages (from cairocffi->cairosvg>=2.3.0->py-avataaars) (1.15.1)\n",
      "Requirement already satisfied: webencodings in /Users/michielbontenbal/anaconda3/lib/python3.10/site-packages (from cssselect2->cairosvg>=2.3.0->py-avataaars) (0.5.1)\n",
      "Requirement already satisfied: pycparser in /Users/michielbontenbal/anaconda3/lib/python3.10/site-packages (from cffi>=1.1.0->cairocffi->cairosvg>=2.3.0->py-avataaars) (2.21)\n",
      "Using cached py_avataaars-1.1.2-py3-none-any.whl (191 kB)\n",
      "Using cached CairoSVG-2.7.1-py3-none-any.whl (43 kB)\n",
      "Using cached cairocffi-1.7.0-py3-none-any.whl (75 kB)\n",
      "Using cached cssselect2-0.7.0-py3-none-any.whl (15 kB)\n",
      "Installing collected packages: cssselect2, cairocffi, cairosvg, py-avataaars\n",
      "Successfully installed cairocffi-1.7.0 cairosvg-2.7.1 cssselect2-0.7.0 py-avataaars-1.1.2\n"
     ]
    }
   ],
   "source": [
    "!pip install py-avataaars"
   ]
  },
  {
   "cell_type": "markdown",
   "metadata": {},
   "source": [
    "Source: https://getavataaars.com/"
   ]
  },
  {
   "cell_type": "code",
   "execution_count": 3,
   "metadata": {},
   "outputs": [],
   "source": [
    "from py_avataaars import PyAvataaar\n",
    "\n",
    "avatar = PyAvataaar()\n",
    "avatar.render_png_file('output_file.png')"
   ]
  },
  {
   "cell_type": "code",
   "execution_count": 7,
   "metadata": {},
   "outputs": [],
   "source": [
    "import py_avataaars as pa\n",
    "avatar = pa.PyAvataaar(\n",
    "    style=pa.AvatarStyle.CIRCLE,\n",
    "    skin_color=pa.SkinColor.LIGHT,\n",
    "    hair_color=pa.HairColor.BLONDE_GOLDEN,\n",
    "    facial_hair_type=pa.FacialHairType.DEFAULT,\n",
    "    facial_hair_color=pa.HairColor.BLONDE_GOLDEN,\n",
    "    top_type=pa.TopType.SHORT_HAIR_SHORT_FLAT,\n",
    "    hat_color=pa.Color.BLACK,\n",
    "    mouth_type=pa.MouthType.SMILE,\n",
    "    eye_type=pa.EyesType.DEFAULT,\n",
    "    eyebrow_type=pa.EyebrowType.DEFAULT,\n",
    "    nose_type=pa.NoseType.DEFAULT,\n",
    "    accessories_type=pa.AccessoriesType.DEFAULT,\n",
    "    clothe_type=pa.ClotheType.GRAPHIC_SHIRT,\n",
    "    clothe_color=pa.Color.HEATHER,\n",
    "    clothe_graphic_type=pa.ClotheGraphicType.BAT,\n",
    ")\n",
    "avatar.render_png_file('output_file.png')"
   ]
  }
 ],
 "metadata": {
  "kernelspec": {
   "display_name": "Python 3",
   "language": "python",
   "name": "python3"
  },
  "language_info": {
   "codemirror_mode": {
    "name": "ipython",
    "version": 3
   },
   "file_extension": ".py",
   "mimetype": "text/x-python",
   "name": "python",
   "nbconvert_exporter": "python",
   "pygments_lexer": "ipython3",
   "version": "3.10.9"
  }
 },
 "nbformat": 4,
 "nbformat_minor": 2
}
